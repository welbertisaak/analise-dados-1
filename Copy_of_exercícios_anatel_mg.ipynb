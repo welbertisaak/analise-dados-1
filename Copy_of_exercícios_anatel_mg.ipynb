{
  "nbformat": 4,
  "nbformat_minor": 0,
  "metadata": {
    "kernelspec": {
      "display_name": "Python 3",
      "language": "python",
      "name": "python3"
    },
    "language_info": {
      "codemirror_mode": {
        "name": "ipython",
        "version": 3
      },
      "file_extension": ".py",
      "mimetype": "text/x-python",
      "name": "python",
      "nbconvert_exporter": "python",
      "pygments_lexer": "ipython3",
      "version": "3.7.4"
    },
    "colab": {
      "name": "Copy of exercícios_anatel_mg.ipynb",
      "provenance": [],
      "include_colab_link": true
    }
  },
  "cells": [
    {
      "cell_type": "markdown",
      "metadata": {
        "id": "view-in-github",
        "colab_type": "text"
      },
      "source": [
        "<a href=\"https://colab.research.google.com/github/welbertisaak/analise-dados-1/blob/master/Copy_of_exerc%C3%ADcios_anatel_mg.ipynb\" target=\"_parent\"><img src=\"https://colab.research.google.com/assets/colab-badge.svg\" alt=\"Open In Colab\"/></a>"
      ]
    },
    {
      "cell_type": "markdown",
      "metadata": {
        "id": "uXflKqTu5R01",
        "colab_type": "text"
      },
      "source": [
        "![anatel](img/anatel_logo.png \"Logo Anatel\")\n",
        "\n",
        "# Análise de Dados da Anatel em Minas Gerais (2006 - 2019)"
      ]
    },
    {
      "cell_type": "markdown",
      "metadata": {
        "id": "llxnOTRD5R02",
        "colab_type": "text"
      },
      "source": [
        "A Agência Nacional de Telecomunicaçõe ([Anatel](https://www.anatel.gov.br/institucional/)) foi criada em 16 de julho de 1997 com o objetivo de regular o setor de telecomunicações para contribuir com o desenvolvimento do Brasil. Neste estudo iremos explorar o conjunto de dados das **Reclamações Registradas na Anatel** no estado de Minas Gerais durante os anos de 2006 até 2019. Os dados foram baixaados do  website [Dados Abertos](http://www.dados.gov.br/dataset/solicitacoesregistradasnaanatel) e o [Dicionário de Dados Oficial](data/Reclamações_Glossário_e_Metadados.pdf) está disponível na pasta: [`data/Reclamações_Glossário_e_Metadados.pdf`](data/Reclamações_Glossário_e_Metadados.pdf)."
      ]
    },
    {
      "cell_type": "markdown",
      "metadata": {
        "id": "_Mlv0oL95R02",
        "colab_type": "text"
      },
      "source": [
        "## Exercícios\n",
        "Faça as questões abaixo usando somente a biblioteca [pandas](https://pandas.pydata.org/)."
      ]
    },
    {
      "cell_type": "markdown",
      "metadata": {
        "id": "D4oHi53y5R03",
        "colab_type": "text"
      },
      "source": [
        "1. Importe o pacote **pandas** como o nome pd."
      ]
    },
    {
      "cell_type": "code",
      "metadata": {
        "id": "VxYsFL7v5R03",
        "colab_type": "code",
        "colab": {}
      },
      "source": [
        "import numpy as np\n",
        "import pandas as pd"
      ],
      "execution_count": 1,
      "outputs": []
    },
    {
      "cell_type": "markdown",
      "metadata": {
        "id": "vLNofaYt5R07",
        "colab_type": "text"
      },
      "source": [
        "2. Carregue em memória o conjunto de dados disponível na pasta [`data/anatel_mg_2006_2019.csv`](data/anatel_mg_2006_2019.csv) para uma variável chamada **df**."
      ]
    },
    {
      "cell_type": "code",
      "metadata": {
        "id": "YyuAKGS55R07",
        "colab_type": "code",
        "colab": {}
      },
      "source": [
        "df = pd.read_csv('anatel_mg_2006_2019.csv')"
      ],
      "execution_count": 2,
      "outputs": []
    },
    {
      "cell_type": "markdown",
      "metadata": {
        "id": "UPI99yUa5R0-",
        "colab_type": "text"
      },
      "source": [
        "3. Quantas linhas e quantas colunas foram carregadas em memória?"
      ]
    },
    {
      "cell_type": "code",
      "metadata": {
        "id": "vH3rcryc5R0-",
        "colab_type": "code",
        "colab": {
          "base_uri": "https://localhost:8080/",
          "height": 34
        },
        "outputId": "79b19396-4042-45ee-df40-9060a5973d90"
      },
      "source": [
        "df.shape"
      ],
      "execution_count": 3,
      "outputs": [
        {
          "output_type": "execute_result",
          "data": {
            "text/plain": [
              "(509706, 12)"
            ]
          },
          "metadata": {
            "tags": []
          },
          "execution_count": 3
        }
      ]
    },
    {
      "cell_type": "markdown",
      "metadata": {
        "id": "bH8k4FFr5R1B",
        "colab_type": "text"
      },
      "source": [
        "4. Mostre as 5 primeiras linhas do *dataset*."
      ]
    },
    {
      "cell_type": "code",
      "metadata": {
        "id": "yNLNSDCr5R1C",
        "colab_type": "code",
        "colab": {
          "base_uri": "https://localhost:8080/",
          "height": 360
        },
        "outputId": "4d904d9e-5954-4786-e4da-50bc01b9f6e7"
      },
      "source": [
        "df.head()"
      ],
      "execution_count": 4,
      "outputs": [
        {
          "output_type": "execute_result",
          "data": {
            "text/html": [
              "<div>\n",
              "<style scoped>\n",
              "    .dataframe tbody tr th:only-of-type {\n",
              "        vertical-align: middle;\n",
              "    }\n",
              "\n",
              "    .dataframe tbody tr th {\n",
              "        vertical-align: top;\n",
              "    }\n",
              "\n",
              "    .dataframe thead th {\n",
              "        text-align: right;\n",
              "    }\n",
              "</style>\n",
              "<table border=\"1\" class=\"dataframe\">\n",
              "  <thead>\n",
              "    <tr style=\"text-align: right;\">\n",
              "      <th></th>\n",
              "      <th>DataExtracao</th>\n",
              "      <th>Ano</th>\n",
              "      <th>Mes</th>\n",
              "      <th>CanalEntrada</th>\n",
              "      <th>Condicao</th>\n",
              "      <th>GrupoEconNorm</th>\n",
              "      <th>Tipo</th>\n",
              "      <th>Servico</th>\n",
              "      <th>Modalidade</th>\n",
              "      <th>Motivo</th>\n",
              "      <th>UF</th>\n",
              "      <th>QtdeSolic</th>\n",
              "    </tr>\n",
              "  </thead>\n",
              "  <tbody>\n",
              "    <tr>\n",
              "      <th>0</th>\n",
              "      <td>2016-04-28</td>\n",
              "      <td>2006</td>\n",
              "      <td>1</td>\n",
              "      <td>Atendimento Pessoal</td>\n",
              "      <td>Nova</td>\n",
              "      <td>Anatel</td>\n",
              "      <td>Denúncia</td>\n",
              "      <td>Radiodifusão (Rádio e TV)</td>\n",
              "      <td>Rádio FM</td>\n",
              "      <td>Interferência</td>\n",
              "      <td>MG</td>\n",
              "      <td>3</td>\n",
              "    </tr>\n",
              "    <tr>\n",
              "      <th>1</th>\n",
              "      <td>2016-04-28</td>\n",
              "      <td>2006</td>\n",
              "      <td>1</td>\n",
              "      <td>Atendimento Pessoal</td>\n",
              "      <td>Nova</td>\n",
              "      <td>Anatel</td>\n",
              "      <td>Denúncia</td>\n",
              "      <td>Radiodifusão (Rádio e TV)</td>\n",
              "      <td>Rádio FM</td>\n",
              "      <td>Outorga</td>\n",
              "      <td>MG</td>\n",
              "      <td>8</td>\n",
              "    </tr>\n",
              "    <tr>\n",
              "      <th>2</th>\n",
              "      <td>2016-04-28</td>\n",
              "      <td>2006</td>\n",
              "      <td>1</td>\n",
              "      <td>Atendimento Pessoal</td>\n",
              "      <td>Nova</td>\n",
              "      <td>NET</td>\n",
              "      <td>Reclamação</td>\n",
              "      <td>Serviço Telefônico Fixo Comutado - STFC</td>\n",
              "      <td>Local</td>\n",
              "      <td>Cobrança</td>\n",
              "      <td>MG</td>\n",
              "      <td>1</td>\n",
              "    </tr>\n",
              "    <tr>\n",
              "      <th>3</th>\n",
              "      <td>2016-04-28</td>\n",
              "      <td>2006</td>\n",
              "      <td>1</td>\n",
              "      <td>Atendimento Pessoal</td>\n",
              "      <td>Nova</td>\n",
              "      <td>OI</td>\n",
              "      <td>Reclamação</td>\n",
              "      <td>Móvel Pessoal</td>\n",
              "      <td>Pós-Pago</td>\n",
              "      <td>Serviços Adicionais</td>\n",
              "      <td>MG</td>\n",
              "      <td>1</td>\n",
              "    </tr>\n",
              "    <tr>\n",
              "      <th>4</th>\n",
              "      <td>2016-04-28</td>\n",
              "      <td>2006</td>\n",
              "      <td>1</td>\n",
              "      <td>Atendimento Pessoal</td>\n",
              "      <td>Nova</td>\n",
              "      <td>Outros</td>\n",
              "      <td>Reclamação</td>\n",
              "      <td>Móvel Pessoal</td>\n",
              "      <td>Pós-Pago</td>\n",
              "      <td>Clonagem</td>\n",
              "      <td>MG</td>\n",
              "      <td>1</td>\n",
              "    </tr>\n",
              "  </tbody>\n",
              "</table>\n",
              "</div>"
            ],
            "text/plain": [
              "  DataExtracao   Ano  Mes  ...               Motivo  UF QtdeSolic\n",
              "0   2016-04-28  2006    1  ...        Interferência  MG         3\n",
              "1   2016-04-28  2006    1  ...              Outorga  MG         8\n",
              "2   2016-04-28  2006    1  ...             Cobrança  MG         1\n",
              "3   2016-04-28  2006    1  ...  Serviços Adicionais  MG         1\n",
              "4   2016-04-28  2006    1  ...             Clonagem  MG         1\n",
              "\n",
              "[5 rows x 12 columns]"
            ]
          },
          "metadata": {
            "tags": []
          },
          "execution_count": 4
        }
      ]
    },
    {
      "cell_type": "markdown",
      "metadata": {
        "id": "gVac4Quh5R1F",
        "colab_type": "text"
      },
      "source": [
        "5.  Quais são os tipos de dados de cada uma das colunas?"
      ]
    },
    {
      "cell_type": "code",
      "metadata": {
        "id": "S0Ds6Jke5R1F",
        "colab_type": "code",
        "colab": {
          "base_uri": "https://localhost:8080/",
          "height": 238
        },
        "outputId": "c98ea8f0-88bd-4bdc-bd23-ee2e3e391862"
      },
      "source": [
        "df.dtypes"
      ],
      "execution_count": 5,
      "outputs": [
        {
          "output_type": "execute_result",
          "data": {
            "text/plain": [
              "DataExtracao     object\n",
              "Ano               int64\n",
              "Mes               int64\n",
              "CanalEntrada     object\n",
              "Condicao         object\n",
              "GrupoEconNorm    object\n",
              "Tipo             object\n",
              "Servico          object\n",
              "Modalidade       object\n",
              "Motivo           object\n",
              "UF               object\n",
              "QtdeSolic         int64\n",
              "dtype: object"
            ]
          },
          "metadata": {
            "tags": []
          },
          "execution_count": 5
        }
      ]
    },
    {
      "cell_type": "markdown",
      "metadata": {
        "id": "7X97uS_w5R1H",
        "colab_type": "text"
      },
      "source": [
        "6. Mostre a quantidade de colunas para cada um dos tipos de dados."
      ]
    },
    {
      "cell_type": "code",
      "metadata": {
        "id": "q6Ug4rW75R1I",
        "colab_type": "code",
        "colab": {
          "base_uri": "https://localhost:8080/",
          "height": 68
        },
        "outputId": "e260a140-9522-4e0f-86fd-262bd2e11293"
      },
      "source": [
        "df.dtypes.value_counts()"
      ],
      "execution_count": 6,
      "outputs": [
        {
          "output_type": "execute_result",
          "data": {
            "text/plain": [
              "object    9\n",
              "int64     3\n",
              "dtype: int64"
            ]
          },
          "metadata": {
            "tags": []
          },
          "execution_count": 6
        }
      ]
    },
    {
      "cell_type": "markdown",
      "metadata": {
        "id": "iV1DDH_m5R1K",
        "colab_type": "text"
      },
      "source": [
        "7. Mostre as informações básicas do DataFrame."
      ]
    },
    {
      "cell_type": "code",
      "metadata": {
        "id": "2bTM0l_P5R1L",
        "colab_type": "code",
        "colab": {
          "base_uri": "https://localhost:8080/",
          "height": 340
        },
        "outputId": "ceea3de1-5967-457d-8b4c-44d0da1f5192"
      },
      "source": [
        "df.info()"
      ],
      "execution_count": 7,
      "outputs": [
        {
          "output_type": "stream",
          "text": [
            "<class 'pandas.core.frame.DataFrame'>\n",
            "RangeIndex: 509706 entries, 0 to 509705\n",
            "Data columns (total 12 columns):\n",
            " #   Column         Non-Null Count   Dtype \n",
            "---  ------         --------------   ----- \n",
            " 0   DataExtracao   509706 non-null  object\n",
            " 1   Ano            509706 non-null  int64 \n",
            " 2   Mes            509706 non-null  int64 \n",
            " 3   CanalEntrada   509706 non-null  object\n",
            " 4   Condicao       509706 non-null  object\n",
            " 5   GrupoEconNorm  509404 non-null  object\n",
            " 6   Tipo           509706 non-null  object\n",
            " 7   Servico        509706 non-null  object\n",
            " 8   Modalidade     509706 non-null  object\n",
            " 9   Motivo         509706 non-null  object\n",
            " 10  UF             509706 non-null  object\n",
            " 11  QtdeSolic      509706 non-null  int64 \n",
            "dtypes: int64(3), object(9)\n",
            "memory usage: 46.7+ MB\n"
          ],
          "name": "stdout"
        }
      ]
    },
    {
      "cell_type": "markdown",
      "metadata": {
        "id": "ZC-LnS0o5R1N",
        "colab_type": "text"
      },
      "source": [
        "8. Verifique se existem dados ausentes (*misssing data*) no conjunto de dados."
      ]
    },
    {
      "cell_type": "code",
      "metadata": {
        "id": "5eIPbxqj5R1N",
        "colab_type": "code",
        "colab": {
          "base_uri": "https://localhost:8080/",
          "height": 34
        },
        "outputId": "7d87b116-2bc8-49f9-a51e-dfb3f723baa6"
      },
      "source": [
        "df.isnull().values.any()"
      ],
      "execution_count": 8,
      "outputs": [
        {
          "output_type": "execute_result",
          "data": {
            "text/plain": [
              "True"
            ]
          },
          "metadata": {
            "tags": []
          },
          "execution_count": 8
        }
      ]
    },
    {
      "cell_type": "markdown",
      "metadata": {
        "id": "fYh1ipFb5R1Q",
        "colab_type": "text"
      },
      "source": [
        "9. Qual é o número total de dados ausentes?"
      ]
    },
    {
      "cell_type": "code",
      "metadata": {
        "id": "u2lmGNRE5R1Q",
        "colab_type": "code",
        "colab": {
          "base_uri": "https://localhost:8080/",
          "height": 34
        },
        "outputId": "44123bfc-1cdb-484e-edae-61aceb622a5a"
      },
      "source": [
        "df.isnull().sum().sum()"
      ],
      "execution_count": 9,
      "outputs": [
        {
          "output_type": "execute_result",
          "data": {
            "text/plain": [
              "302"
            ]
          },
          "metadata": {
            "tags": []
          },
          "execution_count": 9
        }
      ]
    },
    {
      "cell_type": "markdown",
      "metadata": {
        "id": "a0cWEXvq5R1T",
        "colab_type": "text"
      },
      "source": [
        "10. Qual é o número total de dados ausentes por coluna? "
      ]
    },
    {
      "cell_type": "code",
      "metadata": {
        "id": "4rMpngm_5R1T",
        "colab_type": "code",
        "colab": {
          "base_uri": "https://localhost:8080/",
          "height": 238
        },
        "outputId": "2dcfb449-ff1f-4b4a-a9b9-4050523dca68"
      },
      "source": [
        "df.isnull().sum()"
      ],
      "execution_count": 10,
      "outputs": [
        {
          "output_type": "execute_result",
          "data": {
            "text/plain": [
              "DataExtracao       0\n",
              "Ano                0\n",
              "Mes                0\n",
              "CanalEntrada       0\n",
              "Condicao           0\n",
              "GrupoEconNorm    302\n",
              "Tipo               0\n",
              "Servico            0\n",
              "Modalidade         0\n",
              "Motivo             0\n",
              "UF                 0\n",
              "QtdeSolic          0\n",
              "dtype: int64"
            ]
          },
          "metadata": {
            "tags": []
          },
          "execution_count": 10
        }
      ]
    },
    {
      "cell_type": "markdown",
      "metadata": {
        "id": "7IYjmQPJ5R1W",
        "colab_type": "text"
      },
      "source": [
        "11. Remova todos os dados ausentes encontrados."
      ]
    },
    {
      "cell_type": "code",
      "metadata": {
        "id": "8iKxSdxA5R1W",
        "colab_type": "code",
        "colab": {}
      },
      "source": [
        "df = df.dropna()"
      ],
      "execution_count": 11,
      "outputs": []
    },
    {
      "cell_type": "markdown",
      "metadata": {
        "id": "P7eC5n_15R1Y",
        "colab_type": "text"
      },
      "source": [
        "12. Selecione o serviço que possui o maior número de solicitações `QtdeSolic` na Anatel."
      ]
    },
    {
      "cell_type": "code",
      "metadata": {
        "id": "NQQ8yvuY5R1Y",
        "colab_type": "code",
        "colab": {
          "base_uri": "https://localhost:8080/",
          "height": 168
        },
        "outputId": "1b6ce361-3652-4350-cdc7-ce98118be7ea"
      },
      "source": [
        "df.sort_values(by='QtdeSolic', ascending=False).head(1)"
      ],
      "execution_count": 12,
      "outputs": [
        {
          "output_type": "execute_result",
          "data": {
            "text/html": [
              "<div>\n",
              "<style scoped>\n",
              "    .dataframe tbody tr th:only-of-type {\n",
              "        vertical-align: middle;\n",
              "    }\n",
              "\n",
              "    .dataframe tbody tr th {\n",
              "        vertical-align: top;\n",
              "    }\n",
              "\n",
              "    .dataframe thead th {\n",
              "        text-align: right;\n",
              "    }\n",
              "</style>\n",
              "<table border=\"1\" class=\"dataframe\">\n",
              "  <thead>\n",
              "    <tr style=\"text-align: right;\">\n",
              "      <th></th>\n",
              "      <th>DataExtracao</th>\n",
              "      <th>Ano</th>\n",
              "      <th>Mes</th>\n",
              "      <th>CanalEntrada</th>\n",
              "      <th>Condicao</th>\n",
              "      <th>GrupoEconNorm</th>\n",
              "      <th>Tipo</th>\n",
              "      <th>Servico</th>\n",
              "      <th>Modalidade</th>\n",
              "      <th>Motivo</th>\n",
              "      <th>UF</th>\n",
              "      <th>QtdeSolic</th>\n",
              "    </tr>\n",
              "  </thead>\n",
              "  <tbody>\n",
              "    <tr>\n",
              "      <th>139270</th>\n",
              "      <td>2016-04-19</td>\n",
              "      <td>2013</td>\n",
              "      <td>12</td>\n",
              "      <td>Call Center</td>\n",
              "      <td>Nova</td>\n",
              "      <td>OI</td>\n",
              "      <td>Reclamação</td>\n",
              "      <td>Serviço Telefônico Fixo Comutado - STFC</td>\n",
              "      <td>Local</td>\n",
              "      <td>Reparo</td>\n",
              "      <td>MG</td>\n",
              "      <td>4164</td>\n",
              "    </tr>\n",
              "  </tbody>\n",
              "</table>\n",
              "</div>"
            ],
            "text/plain": [
              "       DataExtracao   Ano  Mes CanalEntrada  ... Modalidade  Motivo  UF QtdeSolic\n",
              "139270   2016-04-19  2013   12  Call Center  ...      Local  Reparo  MG      4164\n",
              "\n",
              "[1 rows x 12 columns]"
            ]
          },
          "metadata": {
            "tags": []
          },
          "execution_count": 12
        }
      ]
    },
    {
      "cell_type": "markdown",
      "metadata": {
        "id": "YyHZhJSX5R1b",
        "colab_type": "text"
      },
      "source": [
        "13. Qual é o menor número de solicitações `QtdeSolic` na Anatel."
      ]
    },
    {
      "cell_type": "code",
      "metadata": {
        "id": "BQgGem5c5R1b",
        "colab_type": "code",
        "colab": {
          "base_uri": "https://localhost:8080/",
          "height": 34
        },
        "outputId": "6df774f6-c7f9-44db-8603-ccf708f12762"
      },
      "source": [
        "df.QtdeSolic.min()"
      ],
      "execution_count": 13,
      "outputs": [
        {
          "output_type": "execute_result",
          "data": {
            "text/plain": [
              "1"
            ]
          },
          "metadata": {
            "tags": []
          },
          "execution_count": 13
        }
      ]
    },
    {
      "cell_type": "markdown",
      "metadata": {
        "id": "0rbEsOo25R1e",
        "colab_type": "text"
      },
      "source": [
        "14. Mostre todas as linhs iguais ao menor número de solicitações `QtdeSolic` na Anatel."
      ]
    },
    {
      "cell_type": "code",
      "metadata": {
        "id": "-epns6bQ5R1f",
        "colab_type": "code",
        "colab": {
          "base_uri": "https://localhost:8080/",
          "height": 898
        },
        "outputId": "13df78da-3951-48f4-a407-c3d9e8cf0ff3"
      },
      "source": [
        "df.loc[df['QtdeSolic'] == 1.0]"
      ],
      "execution_count": 14,
      "outputs": [
        {
          "output_type": "execute_result",
          "data": {
            "text/html": [
              "<div>\n",
              "<style scoped>\n",
              "    .dataframe tbody tr th:only-of-type {\n",
              "        vertical-align: middle;\n",
              "    }\n",
              "\n",
              "    .dataframe tbody tr th {\n",
              "        vertical-align: top;\n",
              "    }\n",
              "\n",
              "    .dataframe thead th {\n",
              "        text-align: right;\n",
              "    }\n",
              "</style>\n",
              "<table border=\"1\" class=\"dataframe\">\n",
              "  <thead>\n",
              "    <tr style=\"text-align: right;\">\n",
              "      <th></th>\n",
              "      <th>DataExtracao</th>\n",
              "      <th>Ano</th>\n",
              "      <th>Mes</th>\n",
              "      <th>CanalEntrada</th>\n",
              "      <th>Condicao</th>\n",
              "      <th>GrupoEconNorm</th>\n",
              "      <th>Tipo</th>\n",
              "      <th>Servico</th>\n",
              "      <th>Modalidade</th>\n",
              "      <th>Motivo</th>\n",
              "      <th>UF</th>\n",
              "      <th>QtdeSolic</th>\n",
              "    </tr>\n",
              "  </thead>\n",
              "  <tbody>\n",
              "    <tr>\n",
              "      <th>2</th>\n",
              "      <td>2016-04-28</td>\n",
              "      <td>2006</td>\n",
              "      <td>1</td>\n",
              "      <td>Atendimento Pessoal</td>\n",
              "      <td>Nova</td>\n",
              "      <td>NET</td>\n",
              "      <td>Reclamação</td>\n",
              "      <td>Serviço Telefônico Fixo Comutado - STFC</td>\n",
              "      <td>Local</td>\n",
              "      <td>Cobrança</td>\n",
              "      <td>MG</td>\n",
              "      <td>1</td>\n",
              "    </tr>\n",
              "    <tr>\n",
              "      <th>3</th>\n",
              "      <td>2016-04-28</td>\n",
              "      <td>2006</td>\n",
              "      <td>1</td>\n",
              "      <td>Atendimento Pessoal</td>\n",
              "      <td>Nova</td>\n",
              "      <td>OI</td>\n",
              "      <td>Reclamação</td>\n",
              "      <td>Móvel Pessoal</td>\n",
              "      <td>Pós-Pago</td>\n",
              "      <td>Serviços Adicionais</td>\n",
              "      <td>MG</td>\n",
              "      <td>1</td>\n",
              "    </tr>\n",
              "    <tr>\n",
              "      <th>4</th>\n",
              "      <td>2016-04-28</td>\n",
              "      <td>2006</td>\n",
              "      <td>1</td>\n",
              "      <td>Atendimento Pessoal</td>\n",
              "      <td>Nova</td>\n",
              "      <td>Outros</td>\n",
              "      <td>Reclamação</td>\n",
              "      <td>Móvel Pessoal</td>\n",
              "      <td>Pós-Pago</td>\n",
              "      <td>Clonagem</td>\n",
              "      <td>MG</td>\n",
              "      <td>1</td>\n",
              "    </tr>\n",
              "    <tr>\n",
              "      <th>5</th>\n",
              "      <td>2016-04-28</td>\n",
              "      <td>2006</td>\n",
              "      <td>1</td>\n",
              "      <td>Atendimento Pessoal</td>\n",
              "      <td>Reaberta</td>\n",
              "      <td>NET</td>\n",
              "      <td>Reclamação</td>\n",
              "      <td>Serviço Telefônico Fixo Comutado - STFC</td>\n",
              "      <td>Local</td>\n",
              "      <td>Reparo</td>\n",
              "      <td>MG</td>\n",
              "      <td>1</td>\n",
              "    </tr>\n",
              "    <tr>\n",
              "      <th>6</th>\n",
              "      <td>2016-04-28</td>\n",
              "      <td>2006</td>\n",
              "      <td>1</td>\n",
              "      <td>Atendimento Pessoal</td>\n",
              "      <td>Reaberta</td>\n",
              "      <td>Outros</td>\n",
              "      <td>Reclamação</td>\n",
              "      <td>Serviço Telefônico Fixo Comutado - STFC</td>\n",
              "      <td>Local</td>\n",
              "      <td>Cancelamento</td>\n",
              "      <td>MG</td>\n",
              "      <td>1</td>\n",
              "    </tr>\n",
              "    <tr>\n",
              "      <th>...</th>\n",
              "      <td>...</td>\n",
              "      <td>...</td>\n",
              "      <td>...</td>\n",
              "      <td>...</td>\n",
              "      <td>...</td>\n",
              "      <td>...</td>\n",
              "      <td>...</td>\n",
              "      <td>...</td>\n",
              "      <td>...</td>\n",
              "      <td>...</td>\n",
              "      <td>...</td>\n",
              "      <td>...</td>\n",
              "    </tr>\n",
              "    <tr>\n",
              "      <th>509701</th>\n",
              "      <td>2019-10-08</td>\n",
              "      <td>2019</td>\n",
              "      <td>9</td>\n",
              "      <td>Fale Conosco</td>\n",
              "      <td>Reencaminhada</td>\n",
              "      <td>VIVO</td>\n",
              "      <td>Reclamação</td>\n",
              "      <td>Celular Pré-Pago</td>\n",
              "      <td>Bloqueio ou Suspensão e Desbloqueio</td>\n",
              "      <td>Não consegue desbloquear aparelho</td>\n",
              "      <td>MG</td>\n",
              "      <td>1</td>\n",
              "    </tr>\n",
              "    <tr>\n",
              "      <th>509702</th>\n",
              "      <td>2019-10-08</td>\n",
              "      <td>2019</td>\n",
              "      <td>9</td>\n",
              "      <td>Fale Conosco</td>\n",
              "      <td>Reencaminhada</td>\n",
              "      <td>VIVO</td>\n",
              "      <td>Reclamação</td>\n",
              "      <td>Celular Pré-Pago</td>\n",
              "      <td>Portabilidade</td>\n",
              "      <td>Portabilidade recusada pela prestadora</td>\n",
              "      <td>MG</td>\n",
              "      <td>1</td>\n",
              "    </tr>\n",
              "    <tr>\n",
              "      <th>509703</th>\n",
              "      <td>2019-10-08</td>\n",
              "      <td>2019</td>\n",
              "      <td>9</td>\n",
              "      <td>Fale Conosco</td>\n",
              "      <td>Reencaminhada</td>\n",
              "      <td>VIVO</td>\n",
              "      <td>Reclamação</td>\n",
              "      <td>Celular Pré-Pago</td>\n",
              "      <td>Qualidade, Funcionamento e Reparo</td>\n",
              "      <td>Não funcionamento de facilidade ou serviço adi...</td>\n",
              "      <td>MG</td>\n",
              "      <td>1</td>\n",
              "    </tr>\n",
              "    <tr>\n",
              "      <th>509704</th>\n",
              "      <td>2019-10-08</td>\n",
              "      <td>2019</td>\n",
              "      <td>9</td>\n",
              "      <td>Fale Conosco</td>\n",
              "      <td>Reencaminhada</td>\n",
              "      <td>VIVO</td>\n",
              "      <td>Reclamação</td>\n",
              "      <td>Telefone Fixo</td>\n",
              "      <td>Cancelamento</td>\n",
              "      <td>Cancelamento de serviço adicional não efetuado</td>\n",
              "      <td>MG</td>\n",
              "      <td>1</td>\n",
              "    </tr>\n",
              "    <tr>\n",
              "      <th>509705</th>\n",
              "      <td>2019-10-08</td>\n",
              "      <td>2019</td>\n",
              "      <td>9</td>\n",
              "      <td>Fale Conosco</td>\n",
              "      <td>Reencaminhada</td>\n",
              "      <td>VIVO</td>\n",
              "      <td>Reclamação</td>\n",
              "      <td>Telefone Fixo</td>\n",
              "      <td>Qualidade, Funcionamento e Reparo</td>\n",
              "      <td>Linha muda ou sem sinal</td>\n",
              "      <td>MG</td>\n",
              "      <td>1</td>\n",
              "    </tr>\n",
              "  </tbody>\n",
              "</table>\n",
              "<p>231120 rows × 12 columns</p>\n",
              "</div>"
            ],
            "text/plain": [
              "       DataExtracao   Ano  ...  UF QtdeSolic\n",
              "2        2016-04-28  2006  ...  MG         1\n",
              "3        2016-04-28  2006  ...  MG         1\n",
              "4        2016-04-28  2006  ...  MG         1\n",
              "5        2016-04-28  2006  ...  MG         1\n",
              "6        2016-04-28  2006  ...  MG         1\n",
              "...             ...   ...  ...  ..       ...\n",
              "509701   2019-10-08  2019  ...  MG         1\n",
              "509702   2019-10-08  2019  ...  MG         1\n",
              "509703   2019-10-08  2019  ...  MG         1\n",
              "509704   2019-10-08  2019  ...  MG         1\n",
              "509705   2019-10-08  2019  ...  MG         1\n",
              "\n",
              "[231120 rows x 12 columns]"
            ]
          },
          "metadata": {
            "tags": []
          },
          "execution_count": 14
        }
      ]
    },
    {
      "cell_type": "markdown",
      "metadata": {
        "id": "FLtTu-YK5R1h",
        "colab_type": "text"
      },
      "source": [
        "15. Mostre as contagens de solicitações `QtdeSolic` por tipo de serviço `Servico`."
      ]
    },
    {
      "cell_type": "code",
      "metadata": {
        "id": "kWelmx_95R1h",
        "colab_type": "code",
        "colab": {
          "base_uri": "https://localhost:8080/",
          "height": 669
        },
        "outputId": "cdf02342-462a-4ad1-decb-6f22ea1a05d1"
      },
      "source": [
        "pd.crosstab(df['Servico'], ['QtdeSolic'])"
      ],
      "execution_count": 15,
      "outputs": [
        {
          "output_type": "execute_result",
          "data": {
            "text/html": [
              "<div>\n",
              "<style scoped>\n",
              "    .dataframe tbody tr th:only-of-type {\n",
              "        vertical-align: middle;\n",
              "    }\n",
              "\n",
              "    .dataframe tbody tr th {\n",
              "        vertical-align: top;\n",
              "    }\n",
              "\n",
              "    .dataframe thead th {\n",
              "        text-align: right;\n",
              "    }\n",
              "</style>\n",
              "<table border=\"1\" class=\"dataframe\">\n",
              "  <thead>\n",
              "    <tr style=\"text-align: right;\">\n",
              "      <th>col_0</th>\n",
              "      <th>QtdeSolic</th>\n",
              "    </tr>\n",
              "    <tr>\n",
              "      <th>Servico</th>\n",
              "      <th></th>\n",
              "    </tr>\n",
              "  </thead>\n",
              "  <tbody>\n",
              "    <tr>\n",
              "      <th>Banda Larga Fixa</th>\n",
              "      <td>60421</td>\n",
              "    </tr>\n",
              "    <tr>\n",
              "      <th>Celular Pré-Pago</th>\n",
              "      <td>56911</td>\n",
              "    </tr>\n",
              "    <tr>\n",
              "      <th>Celular Pós-Pago</th>\n",
              "      <td>96355</td>\n",
              "    </tr>\n",
              "    <tr>\n",
              "      <th>Limitado Privado</th>\n",
              "      <td>646</td>\n",
              "    </tr>\n",
              "    <tr>\n",
              "      <th>Móvel Pessoal</th>\n",
              "      <td>68399</td>\n",
              "    </tr>\n",
              "    <tr>\n",
              "      <th>Outros</th>\n",
              "      <td>969</td>\n",
              "    </tr>\n",
              "    <tr>\n",
              "      <th>Radioamador (PY)</th>\n",
              "      <td>1350</td>\n",
              "    </tr>\n",
              "    <tr>\n",
              "      <th>Radiochamada (Paging)</th>\n",
              "      <td>24</td>\n",
              "    </tr>\n",
              "    <tr>\n",
              "      <th>Radiodifusão (Rádio e TV)</th>\n",
              "      <td>3476</td>\n",
              "    </tr>\n",
              "    <tr>\n",
              "      <th>Rádio do Cidadão (PX)</th>\n",
              "      <td>1240</td>\n",
              "    </tr>\n",
              "    <tr>\n",
              "      <th>Serviço Móvel Aeronáutico</th>\n",
              "      <td>105</td>\n",
              "    </tr>\n",
              "    <tr>\n",
              "      <th>Serviço Móvel Marítimo</th>\n",
              "      <td>20</td>\n",
              "    </tr>\n",
              "    <tr>\n",
              "      <th>Serviço Telefônico Fixo Comutado - STFC</th>\n",
              "      <td>41299</td>\n",
              "    </tr>\n",
              "    <tr>\n",
              "      <th>Serviço de Comunicação Multimídia</th>\n",
              "      <td>23210</td>\n",
              "    </tr>\n",
              "    <tr>\n",
              "      <th>Serviço de Rede e Transporte de Telecomunicações - SRTT</th>\n",
              "      <td>531</td>\n",
              "    </tr>\n",
              "    <tr>\n",
              "      <th>Serviços da Anatel</th>\n",
              "      <td>10017</td>\n",
              "    </tr>\n",
              "    <tr>\n",
              "      <th>TV por Assinatura</th>\n",
              "      <td>80646</td>\n",
              "    </tr>\n",
              "    <tr>\n",
              "      <th>Telefone Fixo</th>\n",
              "      <td>63199</td>\n",
              "    </tr>\n",
              "    <tr>\n",
              "      <th>Troncalizado (Trunking)</th>\n",
              "      <td>586</td>\n",
              "    </tr>\n",
              "  </tbody>\n",
              "</table>\n",
              "</div>"
            ],
            "text/plain": [
              "col_0                                               QtdeSolic\n",
              "Servico                                                      \n",
              "Banda Larga Fixa                                        60421\n",
              "Celular Pré-Pago                                        56911\n",
              "Celular Pós-Pago                                        96355\n",
              "Limitado Privado                                          646\n",
              "Móvel Pessoal                                           68399\n",
              "Outros                                                    969\n",
              "Radioamador (PY)                                         1350\n",
              "Radiochamada (Paging)                                      24\n",
              "Radiodifusão (Rádio e TV)                                3476\n",
              "Rádio do Cidadão (PX)                                    1240\n",
              "Serviço Móvel Aeronáutico                                 105\n",
              "Serviço Móvel Marítimo                                     20\n",
              "Serviço Telefônico Fixo Comutado - STFC                 41299\n",
              "Serviço de Comunicação Multimídia                       23210\n",
              "Serviço de Rede e Transporte de Telecomunicaçõe...        531\n",
              "Serviços da Anatel                                      10017\n",
              "TV por Assinatura                                       80646\n",
              "Telefone Fixo                                           63199\n",
              "Troncalizado (Trunking)                                   586"
            ]
          },
          "metadata": {
            "tags": []
          },
          "execution_count": 15
        }
      ]
    },
    {
      "cell_type": "markdown",
      "metadata": {
        "id": "0aC40miS5R1k",
        "colab_type": "text"
      },
      "source": [
        "16. Ao longo dos anos mostre o número de solicitações por mês?"
      ]
    },
    {
      "cell_type": "code",
      "metadata": {
        "id": "oPLbFMQx5R1k",
        "colab_type": "code",
        "colab": {
          "base_uri": "https://localhost:8080/",
          "height": 450
        },
        "outputId": "d351a1b8-d2cf-4913-a3cc-91b776c7c93c"
      },
      "source": [
        "df[[\"Ano\" , \"QtdeSolic\", \"Mes\"]].groupby([\"QtdeSolic\", \"Mes\"]).mean()\n"
      ],
      "execution_count": 16,
      "outputs": [
        {
          "output_type": "execute_result",
          "data": {
            "text/html": [
              "<div>\n",
              "<style scoped>\n",
              "    .dataframe tbody tr th:only-of-type {\n",
              "        vertical-align: middle;\n",
              "    }\n",
              "\n",
              "    .dataframe tbody tr th {\n",
              "        vertical-align: top;\n",
              "    }\n",
              "\n",
              "    .dataframe thead th {\n",
              "        text-align: right;\n",
              "    }\n",
              "</style>\n",
              "<table border=\"1\" class=\"dataframe\">\n",
              "  <thead>\n",
              "    <tr style=\"text-align: right;\">\n",
              "      <th></th>\n",
              "      <th></th>\n",
              "      <th>Ano</th>\n",
              "    </tr>\n",
              "    <tr>\n",
              "      <th>QtdeSolic</th>\n",
              "      <th>Mes</th>\n",
              "      <th></th>\n",
              "    </tr>\n",
              "  </thead>\n",
              "  <tbody>\n",
              "    <tr>\n",
              "      <th rowspan=\"5\" valign=\"top\">1</th>\n",
              "      <th>1</th>\n",
              "      <td>2015.050022</td>\n",
              "    </tr>\n",
              "    <tr>\n",
              "      <th>2</th>\n",
              "      <td>2015.001075</td>\n",
              "    </tr>\n",
              "    <tr>\n",
              "      <th>3</th>\n",
              "      <td>2014.883003</td>\n",
              "    </tr>\n",
              "    <tr>\n",
              "      <th>4</th>\n",
              "      <td>2014.973543</td>\n",
              "    </tr>\n",
              "    <tr>\n",
              "      <th>5</th>\n",
              "      <td>2014.907216</td>\n",
              "    </tr>\n",
              "    <tr>\n",
              "      <th>...</th>\n",
              "      <th>...</th>\n",
              "      <td>...</td>\n",
              "    </tr>\n",
              "    <tr>\n",
              "      <th>2954</th>\n",
              "      <th>1</th>\n",
              "      <td>2014.000000</td>\n",
              "    </tr>\n",
              "    <tr>\n",
              "      <th>3000</th>\n",
              "      <th>7</th>\n",
              "      <td>2013.000000</td>\n",
              "    </tr>\n",
              "    <tr>\n",
              "      <th>3058</th>\n",
              "      <th>2</th>\n",
              "      <td>2014.000000</td>\n",
              "    </tr>\n",
              "    <tr>\n",
              "      <th>3238</th>\n",
              "      <th>11</th>\n",
              "      <td>2013.000000</td>\n",
              "    </tr>\n",
              "    <tr>\n",
              "      <th>4164</th>\n",
              "      <th>12</th>\n",
              "      <td>2013.000000</td>\n",
              "    </tr>\n",
              "  </tbody>\n",
              "</table>\n",
              "<p>4126 rows × 1 columns</p>\n",
              "</div>"
            ],
            "text/plain": [
              "                       Ano\n",
              "QtdeSolic Mes             \n",
              "1         1    2015.050022\n",
              "          2    2015.001075\n",
              "          3    2014.883003\n",
              "          4    2014.973543\n",
              "          5    2014.907216\n",
              "...                    ...\n",
              "2954      1    2014.000000\n",
              "3000      7    2013.000000\n",
              "3058      2    2014.000000\n",
              "3238      11   2013.000000\n",
              "4164      12   2013.000000\n",
              "\n",
              "[4126 rows x 1 columns]"
            ]
          },
          "metadata": {
            "tags": []
          },
          "execution_count": 16
        }
      ]
    },
    {
      "cell_type": "markdown",
      "metadata": {
        "id": "9LRvlVAF5R1m",
        "colab_type": "text"
      },
      "source": [
        "17. Crie o vetor **reclamacoes** com todos os dados que cuja coluna `Tipo` seja igual a \"Reclamação\"."
      ]
    },
    {
      "cell_type": "code",
      "metadata": {
        "id": "b-QmMd8W5R1m",
        "colab_type": "code",
        "colab": {
          "base_uri": "https://localhost:8080/",
          "height": 898
        },
        "outputId": "de9c4890-b050-4f23-9374-f21a57dca5e2"
      },
      "source": [
        "reclamacoes = df[df.Tipo == \"Reclamação\"]\n",
        "reclamacoes"
      ],
      "execution_count": 17,
      "outputs": [
        {
          "output_type": "execute_result",
          "data": {
            "text/html": [
              "<div>\n",
              "<style scoped>\n",
              "    .dataframe tbody tr th:only-of-type {\n",
              "        vertical-align: middle;\n",
              "    }\n",
              "\n",
              "    .dataframe tbody tr th {\n",
              "        vertical-align: top;\n",
              "    }\n",
              "\n",
              "    .dataframe thead th {\n",
              "        text-align: right;\n",
              "    }\n",
              "</style>\n",
              "<table border=\"1\" class=\"dataframe\">\n",
              "  <thead>\n",
              "    <tr style=\"text-align: right;\">\n",
              "      <th></th>\n",
              "      <th>DataExtracao</th>\n",
              "      <th>Ano</th>\n",
              "      <th>Mes</th>\n",
              "      <th>CanalEntrada</th>\n",
              "      <th>Condicao</th>\n",
              "      <th>GrupoEconNorm</th>\n",
              "      <th>Tipo</th>\n",
              "      <th>Servico</th>\n",
              "      <th>Modalidade</th>\n",
              "      <th>Motivo</th>\n",
              "      <th>UF</th>\n",
              "      <th>QtdeSolic</th>\n",
              "    </tr>\n",
              "  </thead>\n",
              "  <tbody>\n",
              "    <tr>\n",
              "      <th>2</th>\n",
              "      <td>2016-04-28</td>\n",
              "      <td>2006</td>\n",
              "      <td>1</td>\n",
              "      <td>Atendimento Pessoal</td>\n",
              "      <td>Nova</td>\n",
              "      <td>NET</td>\n",
              "      <td>Reclamação</td>\n",
              "      <td>Serviço Telefônico Fixo Comutado - STFC</td>\n",
              "      <td>Local</td>\n",
              "      <td>Cobrança</td>\n",
              "      <td>MG</td>\n",
              "      <td>1</td>\n",
              "    </tr>\n",
              "    <tr>\n",
              "      <th>3</th>\n",
              "      <td>2016-04-28</td>\n",
              "      <td>2006</td>\n",
              "      <td>1</td>\n",
              "      <td>Atendimento Pessoal</td>\n",
              "      <td>Nova</td>\n",
              "      <td>OI</td>\n",
              "      <td>Reclamação</td>\n",
              "      <td>Móvel Pessoal</td>\n",
              "      <td>Pós-Pago</td>\n",
              "      <td>Serviços Adicionais</td>\n",
              "      <td>MG</td>\n",
              "      <td>1</td>\n",
              "    </tr>\n",
              "    <tr>\n",
              "      <th>4</th>\n",
              "      <td>2016-04-28</td>\n",
              "      <td>2006</td>\n",
              "      <td>1</td>\n",
              "      <td>Atendimento Pessoal</td>\n",
              "      <td>Nova</td>\n",
              "      <td>Outros</td>\n",
              "      <td>Reclamação</td>\n",
              "      <td>Móvel Pessoal</td>\n",
              "      <td>Pós-Pago</td>\n",
              "      <td>Clonagem</td>\n",
              "      <td>MG</td>\n",
              "      <td>1</td>\n",
              "    </tr>\n",
              "    <tr>\n",
              "      <th>5</th>\n",
              "      <td>2016-04-28</td>\n",
              "      <td>2006</td>\n",
              "      <td>1</td>\n",
              "      <td>Atendimento Pessoal</td>\n",
              "      <td>Reaberta</td>\n",
              "      <td>NET</td>\n",
              "      <td>Reclamação</td>\n",
              "      <td>Serviço Telefônico Fixo Comutado - STFC</td>\n",
              "      <td>Local</td>\n",
              "      <td>Reparo</td>\n",
              "      <td>MG</td>\n",
              "      <td>1</td>\n",
              "    </tr>\n",
              "    <tr>\n",
              "      <th>6</th>\n",
              "      <td>2016-04-28</td>\n",
              "      <td>2006</td>\n",
              "      <td>1</td>\n",
              "      <td>Atendimento Pessoal</td>\n",
              "      <td>Reaberta</td>\n",
              "      <td>Outros</td>\n",
              "      <td>Reclamação</td>\n",
              "      <td>Serviço Telefônico Fixo Comutado - STFC</td>\n",
              "      <td>Local</td>\n",
              "      <td>Cancelamento</td>\n",
              "      <td>MG</td>\n",
              "      <td>1</td>\n",
              "    </tr>\n",
              "    <tr>\n",
              "      <th>...</th>\n",
              "      <td>...</td>\n",
              "      <td>...</td>\n",
              "      <td>...</td>\n",
              "      <td>...</td>\n",
              "      <td>...</td>\n",
              "      <td>...</td>\n",
              "      <td>...</td>\n",
              "      <td>...</td>\n",
              "      <td>...</td>\n",
              "      <td>...</td>\n",
              "      <td>...</td>\n",
              "      <td>...</td>\n",
              "    </tr>\n",
              "    <tr>\n",
              "      <th>509701</th>\n",
              "      <td>2019-10-08</td>\n",
              "      <td>2019</td>\n",
              "      <td>9</td>\n",
              "      <td>Fale Conosco</td>\n",
              "      <td>Reencaminhada</td>\n",
              "      <td>VIVO</td>\n",
              "      <td>Reclamação</td>\n",
              "      <td>Celular Pré-Pago</td>\n",
              "      <td>Bloqueio ou Suspensão e Desbloqueio</td>\n",
              "      <td>Não consegue desbloquear aparelho</td>\n",
              "      <td>MG</td>\n",
              "      <td>1</td>\n",
              "    </tr>\n",
              "    <tr>\n",
              "      <th>509702</th>\n",
              "      <td>2019-10-08</td>\n",
              "      <td>2019</td>\n",
              "      <td>9</td>\n",
              "      <td>Fale Conosco</td>\n",
              "      <td>Reencaminhada</td>\n",
              "      <td>VIVO</td>\n",
              "      <td>Reclamação</td>\n",
              "      <td>Celular Pré-Pago</td>\n",
              "      <td>Portabilidade</td>\n",
              "      <td>Portabilidade recusada pela prestadora</td>\n",
              "      <td>MG</td>\n",
              "      <td>1</td>\n",
              "    </tr>\n",
              "    <tr>\n",
              "      <th>509703</th>\n",
              "      <td>2019-10-08</td>\n",
              "      <td>2019</td>\n",
              "      <td>9</td>\n",
              "      <td>Fale Conosco</td>\n",
              "      <td>Reencaminhada</td>\n",
              "      <td>VIVO</td>\n",
              "      <td>Reclamação</td>\n",
              "      <td>Celular Pré-Pago</td>\n",
              "      <td>Qualidade, Funcionamento e Reparo</td>\n",
              "      <td>Não funcionamento de facilidade ou serviço adi...</td>\n",
              "      <td>MG</td>\n",
              "      <td>1</td>\n",
              "    </tr>\n",
              "    <tr>\n",
              "      <th>509704</th>\n",
              "      <td>2019-10-08</td>\n",
              "      <td>2019</td>\n",
              "      <td>9</td>\n",
              "      <td>Fale Conosco</td>\n",
              "      <td>Reencaminhada</td>\n",
              "      <td>VIVO</td>\n",
              "      <td>Reclamação</td>\n",
              "      <td>Telefone Fixo</td>\n",
              "      <td>Cancelamento</td>\n",
              "      <td>Cancelamento de serviço adicional não efetuado</td>\n",
              "      <td>MG</td>\n",
              "      <td>1</td>\n",
              "    </tr>\n",
              "    <tr>\n",
              "      <th>509705</th>\n",
              "      <td>2019-10-08</td>\n",
              "      <td>2019</td>\n",
              "      <td>9</td>\n",
              "      <td>Fale Conosco</td>\n",
              "      <td>Reencaminhada</td>\n",
              "      <td>VIVO</td>\n",
              "      <td>Reclamação</td>\n",
              "      <td>Telefone Fixo</td>\n",
              "      <td>Qualidade, Funcionamento e Reparo</td>\n",
              "      <td>Linha muda ou sem sinal</td>\n",
              "      <td>MG</td>\n",
              "      <td>1</td>\n",
              "    </tr>\n",
              "  </tbody>\n",
              "</table>\n",
              "<p>477862 rows × 12 columns</p>\n",
              "</div>"
            ],
            "text/plain": [
              "       DataExtracao   Ano  ...  UF QtdeSolic\n",
              "2        2016-04-28  2006  ...  MG         1\n",
              "3        2016-04-28  2006  ...  MG         1\n",
              "4        2016-04-28  2006  ...  MG         1\n",
              "5        2016-04-28  2006  ...  MG         1\n",
              "6        2016-04-28  2006  ...  MG         1\n",
              "...             ...   ...  ...  ..       ...\n",
              "509701   2019-10-08  2019  ...  MG         1\n",
              "509702   2019-10-08  2019  ...  MG         1\n",
              "509703   2019-10-08  2019  ...  MG         1\n",
              "509704   2019-10-08  2019  ...  MG         1\n",
              "509705   2019-10-08  2019  ...  MG         1\n",
              "\n",
              "[477862 rows x 12 columns]"
            ]
          },
          "metadata": {
            "tags": []
          },
          "execution_count": 17
        }
      ]
    },
    {
      "cell_type": "markdown",
      "metadata": {
        "id": "D3MQO4gm5R1o",
        "colab_type": "text"
      },
      "source": [
        "18. Mostre o número total de solictiações `QtdeSolic` de reclamações para cada tipo de serviço `Servico`"
      ]
    },
    {
      "cell_type": "code",
      "metadata": {
        "id": "vdTQFlGz5R1o",
        "colab_type": "code",
        "colab": {
          "base_uri": "https://localhost:8080/",
          "height": 669
        },
        "outputId": "743d226b-3190-4d31-92e6-07ae115ff8a8"
      },
      "source": [
        "pd.crosstab(reclamacoes['Servico'], ['QtdeSolic'])"
      ],
      "execution_count": 18,
      "outputs": [
        {
          "output_type": "execute_result",
          "data": {
            "text/html": [
              "<div>\n",
              "<style scoped>\n",
              "    .dataframe tbody tr th:only-of-type {\n",
              "        vertical-align: middle;\n",
              "    }\n",
              "\n",
              "    .dataframe tbody tr th {\n",
              "        vertical-align: top;\n",
              "    }\n",
              "\n",
              "    .dataframe thead th {\n",
              "        text-align: right;\n",
              "    }\n",
              "</style>\n",
              "<table border=\"1\" class=\"dataframe\">\n",
              "  <thead>\n",
              "    <tr style=\"text-align: right;\">\n",
              "      <th>col_0</th>\n",
              "      <th>QtdeSolic</th>\n",
              "    </tr>\n",
              "    <tr>\n",
              "      <th>Servico</th>\n",
              "      <th></th>\n",
              "    </tr>\n",
              "  </thead>\n",
              "  <tbody>\n",
              "    <tr>\n",
              "      <th>Banda Larga Fixa</th>\n",
              "      <td>60420</td>\n",
              "    </tr>\n",
              "    <tr>\n",
              "      <th>Celular Pré-Pago</th>\n",
              "      <td>56911</td>\n",
              "    </tr>\n",
              "    <tr>\n",
              "      <th>Celular Pós-Pago</th>\n",
              "      <td>96353</td>\n",
              "    </tr>\n",
              "    <tr>\n",
              "      <th>Limitado Privado</th>\n",
              "      <td>67</td>\n",
              "    </tr>\n",
              "    <tr>\n",
              "      <th>Móvel Pessoal</th>\n",
              "      <td>60642</td>\n",
              "    </tr>\n",
              "    <tr>\n",
              "      <th>Outros</th>\n",
              "      <td>440</td>\n",
              "    </tr>\n",
              "    <tr>\n",
              "      <th>Radioamador (PY)</th>\n",
              "      <td>145</td>\n",
              "    </tr>\n",
              "    <tr>\n",
              "      <th>Radiochamada (Paging)</th>\n",
              "      <td>1</td>\n",
              "    </tr>\n",
              "    <tr>\n",
              "      <th>Radiodifusão (Rádio e TV)</th>\n",
              "      <td>175</td>\n",
              "    </tr>\n",
              "    <tr>\n",
              "      <th>Rádio do Cidadão (PX)</th>\n",
              "      <td>111</td>\n",
              "    </tr>\n",
              "    <tr>\n",
              "      <th>Serviço Móvel Aeronáutico</th>\n",
              "      <td>9</td>\n",
              "    </tr>\n",
              "    <tr>\n",
              "      <th>Serviço Móvel Marítimo</th>\n",
              "      <td>3</td>\n",
              "    </tr>\n",
              "    <tr>\n",
              "      <th>Serviço Telefônico Fixo Comutado - STFC</th>\n",
              "      <td>37245</td>\n",
              "    </tr>\n",
              "    <tr>\n",
              "      <th>Serviço de Comunicação Multimídia</th>\n",
              "      <td>18546</td>\n",
              "    </tr>\n",
              "    <tr>\n",
              "      <th>Serviço de Rede e Transporte de Telecomunicações - SRTT</th>\n",
              "      <td>458</td>\n",
              "    </tr>\n",
              "    <tr>\n",
              "      <th>Serviços da Anatel</th>\n",
              "      <td>3687</td>\n",
              "    </tr>\n",
              "    <tr>\n",
              "      <th>TV por Assinatura</th>\n",
              "      <td>78916</td>\n",
              "    </tr>\n",
              "    <tr>\n",
              "      <th>Telefone Fixo</th>\n",
              "      <td>63199</td>\n",
              "    </tr>\n",
              "    <tr>\n",
              "      <th>Troncalizado (Trunking)</th>\n",
              "      <td>534</td>\n",
              "    </tr>\n",
              "  </tbody>\n",
              "</table>\n",
              "</div>"
            ],
            "text/plain": [
              "col_0                                               QtdeSolic\n",
              "Servico                                                      \n",
              "Banda Larga Fixa                                        60420\n",
              "Celular Pré-Pago                                        56911\n",
              "Celular Pós-Pago                                        96353\n",
              "Limitado Privado                                           67\n",
              "Móvel Pessoal                                           60642\n",
              "Outros                                                    440\n",
              "Radioamador (PY)                                          145\n",
              "Radiochamada (Paging)                                       1\n",
              "Radiodifusão (Rádio e TV)                                 175\n",
              "Rádio do Cidadão (PX)                                     111\n",
              "Serviço Móvel Aeronáutico                                   9\n",
              "Serviço Móvel Marítimo                                      3\n",
              "Serviço Telefônico Fixo Comutado - STFC                 37245\n",
              "Serviço de Comunicação Multimídia                       18546\n",
              "Serviço de Rede e Transporte de Telecomunicaçõe...        458\n",
              "Serviços da Anatel                                       3687\n",
              "TV por Assinatura                                       78916\n",
              "Telefone Fixo                                           63199\n",
              "Troncalizado (Trunking)                                   534"
            ]
          },
          "metadata": {
            "tags": []
          },
          "execution_count": 18
        }
      ]
    },
    {
      "cell_type": "markdown",
      "metadata": {
        "id": "ANGWVm6j5R1q",
        "colab_type": "text"
      },
      "source": [
        "19. Quais são os maiores ou maior motivo de solicitação de reclamações?"
      ]
    },
    {
      "cell_type": "code",
      "metadata": {
        "id": "fOiAoroV5R1q",
        "colab_type": "code",
        "colab": {
          "base_uri": "https://localhost:8080/",
          "height": 34
        },
        "outputId": "5963fc03-255b-4a68-f2fd-80b7d3cab8ce"
      },
      "source": [
        "reclamacoes.Motivo.max()"
      ],
      "execution_count": 19,
      "outputs": [
        {
          "output_type": "execute_result",
          "data": {
            "text/plain": [
              "'Área de Cobertura'"
            ]
          },
          "metadata": {
            "tags": []
          },
          "execution_count": 19
        }
      ]
    },
    {
      "cell_type": "markdown",
      "metadata": {
        "id": "4bRh0cHW5R1t",
        "colab_type": "text"
      },
      "source": [
        "20. Faça um agrupamento de dados pela coluna `GrupoEconNorm`, mostrando um sumário estatístico da quantidade solicitações `QtdeSolic`."
      ]
    },
    {
      "cell_type": "code",
      "metadata": {
        "id": "tOPcC5Uc5R1t",
        "colab_type": "code",
        "colab": {
          "base_uri": "https://localhost:8080/",
          "height": 731
        },
        "outputId": "a615cf0a-fe1a-43a5-e075-91c7187b9753"
      },
      "source": [
        "pd.crosstab(df['GrupoEconNorm'], ['QtdeSolic'])"
      ],
      "execution_count": 20,
      "outputs": [
        {
          "output_type": "execute_result",
          "data": {
            "text/html": [
              "<div>\n",
              "<style scoped>\n",
              "    .dataframe tbody tr th:only-of-type {\n",
              "        vertical-align: middle;\n",
              "    }\n",
              "\n",
              "    .dataframe tbody tr th {\n",
              "        vertical-align: top;\n",
              "    }\n",
              "\n",
              "    .dataframe thead th {\n",
              "        text-align: right;\n",
              "    }\n",
              "</style>\n",
              "<table border=\"1\" class=\"dataframe\">\n",
              "  <thead>\n",
              "    <tr style=\"text-align: right;\">\n",
              "      <th>col_0</th>\n",
              "      <th>QtdeSolic</th>\n",
              "    </tr>\n",
              "    <tr>\n",
              "      <th>GrupoEconNorm</th>\n",
              "      <th></th>\n",
              "    </tr>\n",
              "  </thead>\n",
              "  <tbody>\n",
              "    <tr>\n",
              "      <th>ALGAR</th>\n",
              "      <td>31030</td>\n",
              "    </tr>\n",
              "    <tr>\n",
              "      <th>Anatel</th>\n",
              "      <td>22833</td>\n",
              "    </tr>\n",
              "    <tr>\n",
              "      <th>BLUE</th>\n",
              "      <td>3105</td>\n",
              "    </tr>\n",
              "    <tr>\n",
              "      <th>Brisanet</th>\n",
              "      <td>5</td>\n",
              "    </tr>\n",
              "    <tr>\n",
              "      <th>CABO TELECOM</th>\n",
              "      <td>1</td>\n",
              "    </tr>\n",
              "    <tr>\n",
              "      <th>CLARO</th>\n",
              "      <td>56270</td>\n",
              "    </tr>\n",
              "    <tr>\n",
              "      <th>Correios Celular</th>\n",
              "      <td>258</td>\n",
              "    </tr>\n",
              "    <tr>\n",
              "      <th>Datora</th>\n",
              "      <td>2</td>\n",
              "    </tr>\n",
              "    <tr>\n",
              "      <th>EMBRATEL</th>\n",
              "      <td>1425</td>\n",
              "    </tr>\n",
              "    <tr>\n",
              "      <th>GVT</th>\n",
              "      <td>6398</td>\n",
              "    </tr>\n",
              "    <tr>\n",
              "      <th>HUGHES NET</th>\n",
              "      <td>399</td>\n",
              "    </tr>\n",
              "    <tr>\n",
              "      <th>Intelig</th>\n",
              "      <td>228</td>\n",
              "    </tr>\n",
              "    <tr>\n",
              "      <th>NET</th>\n",
              "      <td>51631</td>\n",
              "    </tr>\n",
              "    <tr>\n",
              "      <th>NEXTEL</th>\n",
              "      <td>3198</td>\n",
              "    </tr>\n",
              "    <tr>\n",
              "      <th>NOSSA TV - BRASIL</th>\n",
              "      <td>12</td>\n",
              "    </tr>\n",
              "    <tr>\n",
              "      <th>OI</th>\n",
              "      <td>133068</td>\n",
              "    </tr>\n",
              "    <tr>\n",
              "      <th>Outros</th>\n",
              "      <td>23898</td>\n",
              "    </tr>\n",
              "    <tr>\n",
              "      <th>SERCOMTEL</th>\n",
              "      <td>60</td>\n",
              "    </tr>\n",
              "    <tr>\n",
              "      <th>SKY</th>\n",
              "      <td>24332</td>\n",
              "    </tr>\n",
              "    <tr>\n",
              "      <th>TIM</th>\n",
              "      <td>66568</td>\n",
              "    </tr>\n",
              "    <tr>\n",
              "      <th>VIVO</th>\n",
              "      <td>84683</td>\n",
              "    </tr>\n",
              "  </tbody>\n",
              "</table>\n",
              "</div>"
            ],
            "text/plain": [
              "col_0              QtdeSolic\n",
              "GrupoEconNorm               \n",
              "ALGAR                  31030\n",
              "Anatel                 22833\n",
              "BLUE                    3105\n",
              "Brisanet                   5\n",
              "CABO TELECOM               1\n",
              "CLARO                  56270\n",
              "Correios Celular         258\n",
              "Datora                     2\n",
              "EMBRATEL                1425\n",
              "GVT                     6398\n",
              "HUGHES NET               399\n",
              "Intelig                  228\n",
              "NET                    51631\n",
              "NEXTEL                  3198\n",
              "NOSSA TV - BRASIL         12\n",
              "OI                    133068\n",
              "Outros                 23898\n",
              "SERCOMTEL                 60\n",
              "SKY                    24332\n",
              "TIM                    66568\n",
              "VIVO                   84683"
            ]
          },
          "metadata": {
            "tags": []
          },
          "execution_count": 20
        }
      ]
    }
  ]
}