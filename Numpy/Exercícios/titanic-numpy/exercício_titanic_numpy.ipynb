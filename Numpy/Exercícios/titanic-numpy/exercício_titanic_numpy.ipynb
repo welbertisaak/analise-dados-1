{
  "nbformat": 4,
  "nbformat_minor": 0,
  "metadata": {
    "kernelspec": {
      "display_name": "Python 3",
      "language": "python",
      "name": "python3"
    },
    "language_info": {
      "codemirror_mode": {
        "name": "ipython",
        "version": 3
      },
      "file_extension": ".py",
      "mimetype": "text/x-python",
      "name": "python",
      "nbconvert_exporter": "python",
      "pygments_lexer": "ipython3",
      "version": "3.7.4"
    },
    "colab": {
      "name": "exercício_titanic_numpy.ipynb",
      "provenance": []
    }
  },
  "cells": [
    {
      "cell_type": "markdown",
      "metadata": {
        "id": "o1Qnlc5bXJFJ",
        "colab_type": "text"
      },
      "source": [
        "![titanic](img/titanic_historical.jpg \"Pintura do Titanic\")\n",
        "\n",
        "# EXERCÍCIOS: Análise de Dados do Titanic"
      ]
    },
    {
      "cell_type": "markdown",
      "metadata": {
        "id": "jKctqILYXJFK",
        "colab_type": "text"
      },
      "source": [
        "O RMS Titanic foi um navio de passageiros britânico operado pela empresa *White Star Line* que afundou no Oceano Atlântico Norte nas primeiras horas da manhã de 15 de abril de 1912, depois de atingir um iceberg durante sua viagem inaugural de Southampton a Nova York. Dos 2.224 passageiros e tripulantes a bordo, mais de 1.500 morreram, tornando o naufrágio um dos desastres marítimos comerciais mais mortais da história moderna em tempos de paz.\n",
        "\n",
        "Neste estudo iremos explorar um conjunto de dados baseado na lista de passageiros do Titanic editada por Michael A. Findlay, publicada originalmente em Eaton & Haas (1994) Titanic: Triumph and Tragedy, Patrick Stephens Ltd, e expandida com a ajuda da comunidade da Internet. Os arquivos HTML originais foram obtidos por Philip Hind (1999) e o *dataset* descreve o status de sobrevivência de passageiros individuais no Titanic. Ele não contém informações para a tripulação, mas contém idades atuais e estimadas para quase 80% dos passageiros."
      ]
    },
    {
      "cell_type": "markdown",
      "metadata": {
        "id": "tdkrQ0RIXJFK",
        "colab_type": "text"
      },
      "source": [
        "## Dicionário de Dados\n",
        "\n",
        "Nesta seção será apresentado todo o processo de preparação, organização e limpeza de dados feito no *dataset* que possui os seguintes dados:\n",
        "\n",
        "| Nº | Coluna          | Descrição                                                                 |\n",
        "|:--:|:----------------|:--------------------------------------------------------------------------|\n",
        "|  1 | id_passageiro   | Identficador único do passageiro.                                         |\n",
        "|  2 | classe          | Classe social.                                                            |\n",
        "|  3 | sobreviveu      | Sobrevivente? Sim (1), Não (0).                                           |\n",
        "|  4 | nome            | Nome do passageiro.                                                       |\n",
        "|  5 | sexo            | Masculino (male), Feminino (female).                                      |\n",
        "|  6 | idade           | Idade do passageiro.                                                      |\n",
        "|  7 | irmaos_conjuges | Número de irmãos e cônjuges a bordo.                                      |\n",
        "|  8 | pais_filhos     | Número de pais e filhos a bordo.                                          |\n",
        "|  9 | bilhete         | Número do bilhete                                                         |\n",
        "| 10 | tarifa          | Preço da tarifa do passageiro.                                            |\n",
        "| 11 | cabine          | Cabine.                                                                   |\n",
        "| 12 | embarque        | Nome do porto de embarque: C = Cherbourg; Q = Queenstown; S = Southampton |\n",
        "| 13 | bote            | Bote salva vidas.                                                         |\n",
        "| 14 | corpo           | Número de identificação do corpo.                                         |\n",
        "| 15 | destino         | Local de desembarque do passageiro.                                       |\n",
        "\n",
        "### OBSERVAÇÕES\n",
        "\n",
        "- `classe` é uma aproximação do status socioeconômico na época, onde: 1 = Classe Alta1; 2 = Classe Média e 3 = Classe Baixa;\n",
        "- `idade` está representada em anos, porém, se a idade for menor que Um (1) ou caso tenha sido estimada, ela estará com casas decimais xx.5;\n",
        "- `tarifa` está em Libras esterlinas (British Pounds - £) anteriores a 1970;\n",
        "- `irmaos_conjuges` e `pais_filhos`: as variáveis de relação familiar de algumas relações foram ignoradas; a seguir estão as definições usadas:\n",
        "    - **Irmão**: Irmão, irmã, meio-irmão ou meia-irmã do passageiro a bordo do Titanic;\n",
        "    - **Cônjuge**: Marido ou esposa do passageiro a bordo do Titanic (amantes e noivos ignorados);\n",
        "    - **Pai**: Mãe ou pai do passageiro a bordo do Titanic;\n",
        "    - **Criança**: Filho, Filha, Enteado ou Enteada do Passageiro a bordo do Titanic;\n",
        "    - Outros parentes excluídos deste estudo incluem primos, sobrinhos / sobrinhas, tias / tios e parentes;\n",
        "    - Algumas crianças viajavam apenas com uma babá, portanto foi atribuído 0 para elas em pais_filhos; \n",
        "    - Alguns viajaram com amigos ou vizinhos muito próximos em uma vila, no entanto, as definições não apóiam essas relações.\n"
      ]
    },
    {
      "cell_type": "markdown",
      "metadata": {
        "id": "hxkg3jfdXJFL",
        "colab_type": "text"
      },
      "source": [
        "## Exercícios\n",
        "Faça as questões abaixo usando somente a biblioteca [Numpy](https://numpy.org/)."
      ]
    },
    {
      "cell_type": "markdown",
      "metadata": {
        "id": "KSRDMyAnXJFL",
        "colab_type": "text"
      },
      "source": [
        "1. Importe o pacote numpy com o nome np."
      ]
    },
    {
      "cell_type": "code",
      "metadata": {
        "id": "mNTurY9NXJFM",
        "colab_type": "code",
        "colab": {}
      },
      "source": [
        "import numpy as np"
      ],
      "execution_count": 21,
      "outputs": []
    },
    {
      "cell_type": "markdown",
      "metadata": {
        "id": "zdqA8l1QXJFP",
        "colab_type": "text"
      },
      "source": [
        "2. Carregue o conjunto de dados disponível na pasta [data/titanic3.csv](data/titanic3.csv), ignorando as colunas: `cabine`, `bote`, `corpo` e `destino`. **Importante:** o arquivo `.csv` usa tabulação (`\\t`) como delimitador de campos."
      ]
    },
    {
      "cell_type": "code",
      "metadata": {
        "id": "0vacrIbXXJFP",
        "colab_type": "code",
        "colab": {}
      },
      "source": [
        "dados = np.genfromtxt('titanic3.csv', delimiter='\\t', encoding='utf-8', dtype=object, skip_header=True, usecols=[0,1,2,3,4,5,6,7,8,9,11])"
      ],
      "execution_count": 22,
      "outputs": []
    },
    {
      "cell_type": "markdown",
      "metadata": {
        "id": "ZPbOl05gXJFS",
        "colab_type": "text"
      },
      "source": [
        "3. Quantas linhas foram lidas do arquivo?"
      ]
    },
    {
      "cell_type": "code",
      "metadata": {
        "id": "lO2eRioZXJFS",
        "colab_type": "code",
        "colab": {
          "base_uri": "https://localhost:8080/",
          "height": 34
        },
        "outputId": "13fed9ba-5be5-4692-b18c-04f0189895f0"
      },
      "source": [
        "len(dados)"
      ],
      "execution_count": 23,
      "outputs": [
        {
          "output_type": "execute_result",
          "data": {
            "text/plain": [
              "1309"
            ]
          },
          "metadata": {
            "tags": []
          },
          "execution_count": 23
        }
      ]
    },
    {
      "cell_type": "markdown",
      "metadata": {
        "id": "4NTjQmK2XJFW",
        "colab_type": "text"
      },
      "source": [
        "4. Quantas dimensões sua variável dados possui?"
      ]
    },
    {
      "cell_type": "code",
      "metadata": {
        "id": "vfJcbv_dXJFW",
        "colab_type": "code",
        "colab": {
          "base_uri": "https://localhost:8080/",
          "height": 34
        },
        "outputId": "0b093921-4904-4021-acde-97ee8c5bebf0"
      },
      "source": [
        "np.ndim(dados)"
      ],
      "execution_count": 24,
      "outputs": [
        {
          "output_type": "execute_result",
          "data": {
            "text/plain": [
              "2"
            ]
          },
          "metadata": {
            "tags": []
          },
          "execution_count": 24
        }
      ]
    },
    {
      "cell_type": "markdown",
      "metadata": {
        "id": "lgUJkcPcXJFY",
        "colab_type": "text"
      },
      "source": [
        "5. Obtenha os índices das posições onde existam dados ausentes."
      ]
    },
    {
      "cell_type": "code",
      "metadata": {
        "id": "UsKrJWp9XJFZ",
        "colab_type": "code",
        "colab": {
          "base_uri": "https://localhost:8080/",
          "height": 714
        },
        "outputId": "64b1e67d-82d4-4bc1-ab65-1b2b7e9ad860"
      },
      "source": [
        "condicao_vz = dados == b''\n",
        "remove = np.where(dados == b'')\n",
        "remove"
      ],
      "execution_count": 26,
      "outputs": [
        {
          "output_type": "execute_result",
          "data": {
            "text/plain": [
              "(array([  15,   37,   40,   46,   59,   69,   70,   74,   80,  106,  107,\n",
              "         108,  118,  121,  125,  134,  147,  152,  157,  166,  168,  176,\n",
              "         179,  184,  196,  204,  219,  223,  235,  237,  241,  254,  256,\n",
              "         269,  277,  283,  284,  293,  297,  318,  320,  363,  382,  384,\n",
              "         410,  469,  473,  477,  483,  491,  495,  524,  528,  531,  581,\n",
              "         595,  597,  672,  680,  681,  682,  705,  706,  756,  757,  767,\n",
              "         768,  775,  789,  795,  798,  800,  801,  802,  804,  805,  808,\n",
              "         812,  813,  815,  816,  819,  835,  842,  843,  852,  854,  856,\n",
              "         858,  865,  871,  872,  874,  876,  879,  882,  886,  887,  900,\n",
              "         901,  902,  903,  918,  920,  921,  922,  923,  926,  927,  928,\n",
              "         929,  930,  931,  940,  942,  944,  945,  946,  948,  954,  955,\n",
              "         956,  957,  958,  961,  962,  971,  973,  976,  982,  983,  984,\n",
              "         987,  988,  989,  991,  993,  994,  997,  998,  999, 1000, 1001,\n",
              "        1002, 1003, 1004, 1005, 1006, 1009, 1012, 1013, 1014, 1016, 1018,\n",
              "        1022, 1023, 1027, 1028, 1029, 1030, 1032, 1033, 1034, 1035, 1036,\n",
              "        1037, 1038, 1039, 1041, 1042, 1043, 1044, 1052, 1053, 1054, 1055,\n",
              "        1069, 1070, 1071, 1072, 1073, 1074, 1076, 1077, 1078, 1080, 1081,\n",
              "        1085, 1095, 1109, 1114, 1115, 1116, 1121, 1122, 1123, 1124, 1128,\n",
              "        1132, 1135, 1136, 1137, 1138, 1149, 1150, 1151, 1154, 1155, 1159,\n",
              "        1162, 1163, 1164, 1166, 1167, 1168, 1170, 1172, 1173, 1174, 1175,\n",
              "        1176, 1177, 1178, 1179, 1180, 1184, 1185, 1186, 1193, 1194, 1195,\n",
              "        1197, 1198, 1199, 1200, 1202, 1212, 1213, 1214, 1215, 1216, 1219,\n",
              "        1221, 1225, 1241, 1242, 1243, 1245, 1246, 1247, 1249, 1250, 1253,\n",
              "        1255, 1262, 1268, 1282, 1283, 1284, 1291, 1292, 1293, 1297, 1302,\n",
              "        1303, 1305]),\n",
              " array([ 5,  5,  5,  5,  5,  5,  5,  5,  5,  5,  5,  5,  5,  5,  5,  5,  5,\n",
              "         5,  5,  5, 10,  5,  5,  5,  5,  5,  5,  5,  5,  5,  5,  5,  5,  5,\n",
              "         5,  5, 10,  5,  5,  5,  5,  5,  5,  5,  5,  5,  5,  5,  5,  5,  5,\n",
              "         5,  5,  5,  5,  5,  5,  5,  5,  5,  5,  5,  5,  5,  5,  5,  5,  5,\n",
              "         5,  5,  5,  5,  5,  5,  5,  5,  5,  5,  5,  5,  5,  5,  5,  5,  5,\n",
              "         5,  5,  5,  5,  5,  5,  5,  5,  5,  5,  5,  5,  5,  5,  5,  5,  5,\n",
              "         5,  5,  5,  5,  5,  5,  5,  5,  5,  5,  5,  5,  5,  5,  5,  5,  5,\n",
              "         5,  5,  5,  5,  5,  5,  5,  5,  5,  5,  5,  5,  5,  5,  5,  5,  5,\n",
              "         5,  5,  5,  5,  5,  5,  5,  5,  5,  5,  5,  5,  5,  5,  5,  5,  5,\n",
              "         5,  5,  5,  5,  5,  5,  5,  5,  5,  5,  5,  5,  5,  5,  5,  5,  5,\n",
              "         5,  5,  5,  5,  5,  5,  5,  5,  5,  5,  5,  5,  5,  5,  5,  5,  5,\n",
              "         5,  5,  5,  5,  5,  5,  5,  5,  5,  5,  5,  5,  5,  5,  5,  5,  5,\n",
              "         5,  5,  5,  5,  5,  5,  5,  5,  5,  5,  5,  5,  5,  5,  5,  5,  5,\n",
              "         5,  5,  5,  5,  5,  5,  5,  5,  5,  5,  5,  5,  5,  5,  5,  5,  5,\n",
              "         5,  5,  5,  5,  5,  9,  5,  5,  5,  5,  5,  5,  5,  5,  5,  5,  5,\n",
              "         5,  5,  5,  5,  5,  5,  5,  5,  5,  5,  5]))"
            ]
          },
          "metadata": {
            "tags": []
          },
          "execution_count": 26
        }
      ]
    },
    {
      "cell_type": "markdown",
      "metadata": {
        "id": "wAAporJAXJFb",
        "colab_type": "text"
      },
      "source": [
        "6. Remova todas as linhas que possuem dados ausentes."
      ]
    },
    {
      "cell_type": "code",
      "metadata": {
        "id": "zq244cJLXJFc",
        "colab_type": "code",
        "colab": {}
      },
      "source": [
        "condicao_vz = dados != b''\n",
        "novoDados = dados[remove ]"
      ],
      "execution_count": 27,
      "outputs": []
    },
    {
      "cell_type": "markdown",
      "metadata": {
        "id": "JKMveT0BXJFe",
        "colab_type": "text"
      },
      "source": [
        "7. Mostre todos os dados das 5 primeiras linhas do dataset."
      ]
    },
    {
      "cell_type": "code",
      "metadata": {
        "id": "ao8b7U3RXJFf",
        "colab_type": "code",
        "colab": {
          "base_uri": "https://localhost:8080/",
          "height": 204
        },
        "outputId": "7b00c1b6-f568-4537-e299-4c463c9789aa"
      },
      "source": [
        "dados[:5]"
      ],
      "execution_count": 7,
      "outputs": [
        {
          "output_type": "execute_result",
          "data": {
            "text/plain": [
              "array([[b'1', b'1', b'1', b'Allen, Miss. Elisabeth Walton', b'female',\n",
              "        b'29', b'0', b'0', b'24160', b'211.3375', b'S'],\n",
              "       [b'2', b'1', b'1', b'Allison, Master. Hudson Trevor', b'male',\n",
              "        b'1', b'1', b'2', b'113781', b'151.5500', b'S'],\n",
              "       [b'3', b'1', b'0', b'Allison, Miss. Helen Loraine', b'female',\n",
              "        b'2', b'1', b'2', b'113781', b'151.5500', b'S'],\n",
              "       [b'4', b'1', b'0', b'Allison, Mr. Hudson Joshua Creighton',\n",
              "        b'male', b'30', b'1', b'2', b'113781', b'151.5500', b'S'],\n",
              "       [b'5', b'1', b'0',\n",
              "        b'Allison, Mrs. Hudson J C (Bessie Waldo Daniels)', b'female',\n",
              "        b'25', b'1', b'2', b'113781', b'151.5500', b'S']], dtype=object)"
            ]
          },
          "metadata": {
            "tags": []
          },
          "execution_count": 7
        }
      ]
    },
    {
      "cell_type": "markdown",
      "metadata": {
        "id": "Z-OXRNg6XJFh",
        "colab_type": "text"
      },
      "source": [
        "8. Crie as variáveis: `idade`, `irmaos_conjuges`, `pais_filhos` e `tarifa`; com todos os dados dessas colunas, e, tipos de dados conforme a tabela abaixo:\n",
        "\n",
        "| Nº | Coluna          | Tipo de Dados |\n",
        "|:--:|-----------------|---------------|\n",
        "|  6 | idade           | int           |\n",
        "|  7 | irmaos_conjuges | int           |\n",
        "|  8 | pais_filhos     | int           |\n",
        "| 10 | tarifa          | float         |"
      ]
    },
    {
      "cell_type": "code",
      "metadata": {
        "id": "5P03lNxjXJFh",
        "colab_type": "code",
        "colab": {}
      },
      "source": [
        "condicao_vazio = dados[:,5] != b''\n",
        "idades = np.array(dados[condicao_vazio,5],dtype=int)\n",
        "\n",
        "condicao_vazio = dados[:,6] != b''\n",
        "irmaos_conjuges = np.array(dados[condicao_vazio,6],dtype=int)\n",
        "\n",
        "condicao_vazio = dados[:,7] != b''\n",
        "pais_filhos = np.array(dados[condicao_vazio,7], dtype=int)\n",
        "\n",
        "condicao_vazio = dados[:,9] != b''\n",
        "tarifa = np.array(dados[condicao_vazio,9], dtype=float)\n"
      ],
      "execution_count": 28,
      "outputs": []
    },
    {
      "cell_type": "markdown",
      "metadata": {
        "id": "n_RSjGzeXJFj",
        "colab_type": "text"
      },
      "source": [
        "9. Selecione as primeiras 5 linhas dos dados."
      ]
    },
    {
      "cell_type": "code",
      "metadata": {
        "id": "7IZaya6tXJFj",
        "colab_type": "code",
        "colab": {
          "base_uri": "https://localhost:8080/",
          "height": 85
        },
        "outputId": "d18a27f9-a321-4e43-a4c5-fb6714c41576"
      },
      "source": [
        "print(idades[:5])\n",
        "print(irmaos_conjuges[:5])\n",
        "print(pais_filhos[:5])\n",
        "print(tarifa[:5])"
      ],
      "execution_count": 29,
      "outputs": [
        {
          "output_type": "stream",
          "text": [
            "[29  1  2 30 25]\n",
            "[0 1 1 1 1]\n",
            "[0 2 2 2 2]\n",
            "[211.3375 151.55   151.55   151.55   151.55  ]\n"
          ],
          "name": "stdout"
        }
      ]
    },
    {
      "cell_type": "markdown",
      "metadata": {
        "id": "hwk3N9vFXJFm",
        "colab_type": "text"
      },
      "source": [
        "10. Considerando o vetor `idades`, selecione todas as idades das crianças a bordo menores de 12 anos inclusive."
      ]
    },
    {
      "cell_type": "code",
      "metadata": {
        "id": "bwCGXIPVXJFm",
        "colab_type": "code",
        "colab": {
          "base_uri": "https://localhost:8080/",
          "height": 119
        },
        "outputId": "55b576db-566f-4fb9-fdbf-4261fa102a05"
      },
      "source": [
        "menor_idade = 12\n",
        "condicao = idades <= menor_idade\n",
        "\n",
        "idades[condicao]"
      ],
      "execution_count": 10,
      "outputs": [
        {
          "output_type": "execute_result",
          "data": {
            "text/plain": [
              "array([ 1,  2, 11,  4,  6,  1,  4, 12,  1,  8,  8,  8,  1,  6,  7,  1,  3,\n",
              "        1,  2,  3,  2,  8,  1,  3, 12,  2,  4,  1,  5,  1,  4,  6,  2,  9,\n",
              "       11,  5,  9,  3,  5,  1,  1,  5,  6,  9,  9,  3,  0,  1,  0,  5,  9,\n",
              "        9,  9,  1, 11, 10, 11,  2,  4,  1,  4,  4,  1,  6,  1, 12,  9,  2,\n",
              "        6,  3,  8,  1,  7,  2,  1,  3, 10,  4,  7,  2,  8,  2,  1,  4,  4,\n",
              "       10,  9,  2,  2,  0,  7,  9, 12, 10])"
            ]
          },
          "metadata": {
            "tags": []
          },
          "execution_count": 10
        }
      ]
    },
    {
      "cell_type": "markdown",
      "metadata": {
        "id": "gPnmZNRUXJFp",
        "colab_type": "text"
      },
      "source": [
        "11. Qual é a média das idades?"
      ]
    },
    {
      "cell_type": "code",
      "metadata": {
        "id": "5cBifAbrXJFp",
        "colab_type": "code",
        "colab": {
          "base_uri": "https://localhost:8080/",
          "height": 34
        },
        "outputId": "3a381bc2-fedf-4ed3-d89d-825575519ed8"
      },
      "source": [
        "idades.mean()"
      ],
      "execution_count": 11,
      "outputs": [
        {
          "output_type": "execute_result",
          "data": {
            "text/plain": [
              "29.89770554493308"
            ]
          },
          "metadata": {
            "tags": []
          },
          "execution_count": 11
        }
      ]
    },
    {
      "cell_type": "markdown",
      "metadata": {
        "id": "ZXhqnK9ZXJFr",
        "colab_type": "text"
      },
      "source": [
        "12. Quais é a maior e menor idade?"
      ]
    },
    {
      "cell_type": "code",
      "metadata": {
        "id": "a9UGpwSUXJFs",
        "colab_type": "code",
        "colab": {
          "base_uri": "https://localhost:8080/",
          "height": 34
        },
        "outputId": "efee8e44-30fb-4927-edf8-303c5f797377"
      },
      "source": [
        "idades.min()"
      ],
      "execution_count": 12,
      "outputs": [
        {
          "output_type": "execute_result",
          "data": {
            "text/plain": [
              "0"
            ]
          },
          "metadata": {
            "tags": []
          },
          "execution_count": 12
        }
      ]
    },
    {
      "cell_type": "markdown",
      "metadata": {
        "id": "gsXxODsfXJFu",
        "colab_type": "text"
      },
      "source": [
        "13. Crie um vetor chamado `sobreviventes` com todos os dados das pessoas que sobreviveram ao naufrágio."
      ]
    },
    {
      "cell_type": "code",
      "metadata": {
        "id": "f-fRJOfuXJFu",
        "colab_type": "code",
        "colab": {}
      },
      "source": [
        "condicao_vz = dados[:,2] != b''\n",
        "sobreviventes = np.array(dados[condicao_vazio,2], dtype=int)"
      ],
      "execution_count": 15,
      "outputs": []
    },
    {
      "cell_type": "markdown",
      "metadata": {
        "id": "o7wbl2F_XJFw",
        "colab_type": "text"
      },
      "source": [
        "14. Segundo este conjunto de dados, quantas pessoas sobreviveram ao naufrágio?"
      ]
    },
    {
      "cell_type": "code",
      "metadata": {
        "id": "6yfKG58ZXJFw",
        "colab_type": "code",
        "colab": {
          "base_uri": "https://localhost:8080/",
          "height": 34
        },
        "outputId": "78d72e0a-fe6b-41ff-9272-44f0ce99cb55"
      },
      "source": [
        "condicao = sobreviventes == 1\n",
        "sobreviveu = sobreviventes[condicao]\n",
        "len(sobreviveu)"
      ],
      "execution_count": 16,
      "outputs": [
        {
          "output_type": "execute_result",
          "data": {
            "text/plain": [
              "500"
            ]
          },
          "metadata": {
            "tags": []
          },
          "execution_count": 16
        }
      ]
    },
    {
      "cell_type": "markdown",
      "metadata": {
        "id": "iZsm3L1oXJFy",
        "colab_type": "text"
      },
      "source": [
        "15.  Considerando a coluna `idade` dos sobreviventes calcule:\n",
        "    - Média\n",
        "    - Mediana\n",
        "    - Máximo\n",
        "    - Mínimo"
      ]
    },
    {
      "cell_type": "code",
      "metadata": {
        "id": "QV-XNz20XJFz",
        "colab_type": "code",
        "colab": {}
      },
      "source": [
        "print(idades.mean())\n",
        "print(np.median(idades))\n",
        "print(idades.max())\n",
        "print(idades.min())"
      ],
      "execution_count": null,
      "outputs": []
    },
    {
      "cell_type": "markdown",
      "metadata": {
        "id": "E7AUwjVxXJF1",
        "colab_type": "text"
      },
      "source": [
        "16. Crie um vetor chamado `vitimas_naufragio` com todos os dados das pessoas que não sobreviveram ao naufrágio."
      ]
    },
    {
      "cell_type": "code",
      "metadata": {
        "id": "I2WaPqmhXJF1",
        "colab_type": "code",
        "colab": {
          "base_uri": "https://localhost:8080/",
          "height": 136
        },
        "outputId": "d2b91b9a-1c13-4cbd-a9d4-fce92bef202c"
      },
      "source": [
        "condicao = sobreviventes == 0\n",
        "novoDado = sobreviventes[condicao]\n",
        "vitimas_naufragio = dados[novoDado]"
      ],
      "execution_count": 17,
      "outputs": [
        {
          "output_type": "execute_result",
          "data": {
            "text/plain": [
              "array([[b'1', b'1', b'1', ..., b'24160', b'211.3375', b'S'],\n",
              "       [b'1', b'1', b'1', ..., b'24160', b'211.3375', b'S'],\n",
              "       [b'1', b'1', b'1', ..., b'24160', b'211.3375', b'S'],\n",
              "       ...,\n",
              "       [b'1', b'1', b'1', ..., b'24160', b'211.3375', b'S'],\n",
              "       [b'1', b'1', b'1', ..., b'24160', b'211.3375', b'S'],\n",
              "       [b'1', b'1', b'1', ..., b'24160', b'211.3375', b'S']], dtype=object)"
            ]
          },
          "metadata": {
            "tags": []
          },
          "execution_count": 17
        }
      ]
    },
    {
      "cell_type": "markdown",
      "metadata": {
        "id": "lBhqFSbPXJF3",
        "colab_type": "text"
      },
      "source": [
        "17. Considerando a coluna `vitimas_naufragio` dos sobreviventes calcule:\n",
        "    - Média\n",
        "    - Mediana\n",
        "    - Máximo\n",
        "    - Mínimo"
      ]
    },
    {
      "cell_type": "code",
      "metadata": {
        "id": "Z-I1FplQXJF3",
        "colab_type": "code",
        "colab": {}
      },
      "source": [
        ""
      ],
      "execution_count": 18,
      "outputs": []
    },
    {
      "cell_type": "markdown",
      "metadata": {
        "id": "hMJ4HHEwXJF5",
        "colab_type": "text"
      },
      "source": [
        "18. Qual era o preço médio das tarifas?"
      ]
    },
    {
      "cell_type": "code",
      "metadata": {
        "id": "quGYmSM4XJF5",
        "colab_type": "code",
        "colab": {}
      },
      "source": [
        "tarifa.mean()"
      ],
      "execution_count": null,
      "outputs": []
    },
    {
      "cell_type": "markdown",
      "metadata": {
        "id": "Yfss-SpwXJF7",
        "colab_type": "text"
      },
      "source": [
        "19. Crie os vetores `classe_alta`, `classe_media` e `classe_baixa`, com os respectivos dados da coluna `classe` no qual:\n",
        "    - 1 = Classe Alta\n",
        "    - 2 = Classe Média\n",
        "    - 3 = Classe Baixa"
      ]
    },
    {
      "cell_type": "code",
      "metadata": {
        "id": "ypczoTlIXJF7",
        "colab_type": "code",
        "colab": {}
      },
      "source": [
        "\n",
        "condicao = dados[:,1] == b'1'\n",
        "classe_alta = np.array(dados[condicao,1], dtype=int)\n",
        "print(len(classe_alta))\n",
        "\n",
        "\n",
        "condicao = dados[:,1] == b'2'\n",
        "classe_media = np.array(dados[condicao,1], dtype=int)\n",
        "print(len(classe_media))\n",
        "\n",
        "\n",
        "condicao = dados[:,1] == b'3'\n",
        "classe_baixa = np.array(dados[condicao,1], dtype=int)\n",
        "print(len(classe_baixa))"
      ],
      "execution_count": null,
      "outputs": []
    },
    {
      "cell_type": "markdown",
      "metadata": {
        "id": "7q2MIz3MXJF9",
        "colab_type": "text"
      },
      "source": [
        "20. Qual é o número total de passageiros por classe social?"
      ]
    },
    {
      "cell_type": "code",
      "metadata": {
        "id": "EDH9c-JQXJF9",
        "colab_type": "code",
        "colab": {}
      },
      "source": [
        ""
      ],
      "execution_count": null,
      "outputs": []
    },
    {
      "cell_type": "markdown",
      "metadata": {
        "id": "xa1IKxfLXJF_",
        "colab_type": "text"
      },
      "source": [
        "# REFERÊNCIAS\n",
        "\n",
        "- [Titanic: Machine Learning from Disaster](https://www.kaggle.com/c/titanic/data)\n",
        "- [Encyclopedia Titanica](https://www.encyclopedia-titanica.org/)\n",
        "- [Basic Feature Engineering with the Titanic Data](https://triangleinequality.wordpress.com/2013/09/08/basic-feature-engineering-with-the-titanic-data/)\n",
        "- Hind, Philip.  \"Encyclopedia Titanica.\"  Online.  Internet. n.p.  02 Aug 1999."
      ]
    }
  ]
}